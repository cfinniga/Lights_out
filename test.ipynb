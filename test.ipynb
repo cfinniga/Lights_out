{
 "cells": [
  {
   "cell_type": "code",
   "execution_count": 5,
   "metadata": {},
   "outputs": [
    {
     "name": "stdout",
     "output_type": "stream",
     "text": [
      "Starting Lights Out!\n",
      "\n",
      "0 tests failed, 100 tests passed.\n"
     ]
    }
   ],
   "source": [
    "import math\n",
    "import game as logame\n",
    "import numpy as np\n",
    "\n",
    "def main():\n",
    "    print(\"Starting Lights Out!\\n\")\n",
    "    '''\n",
    "    Initialize the counters for 100 random puzzles\n",
    "    '''\n",
    "    length = 5\n",
    "    width = length\n",
    "    \n",
    "    '''\n",
    "    Loop through 100 random puzzles\n",
    "    '''\n",
    "    num_puzzles = 100\n",
    "    failed_tests = 0\n",
    "    for tests in range (0,num_puzzles):\n",
    "        \n",
    "        # Initialize a random matrix\n",
    "        game = logame.Game(length, width)\n",
    "        game.scramble()\n",
    "        \n",
    "        solution = game.solve()\n",
    "\n",
    "        if (not np.array_equal(  np.reshape(game.matrix, (1, length*width)).flatten()  , (np.matmul(game.solver.matrix,solution))%2) ):\n",
    "            print(\"fail\")\n",
    "            print(\"Game matrix\",  game.matrix )\n",
    "            print(\"Solution\\n\", solution)\n",
    "            print(\"res\\n\",(np.matmul(game.solver.matrix,solution))%2)\n",
    "            failed_tests += 1\n",
    "    print(failed_tests, \"tests failed,\", num_puzzles - failed_tests, \"tests passed.\")\n",
    "\n",
    "if __name__ == '__main__':\n",
    "    main()"
   ]
  },
  {
   "cell_type": "code",
   "execution_count": null,
   "metadata": {},
   "outputs": [],
   "source": []
  }
 ],
 "metadata": {
  "kernelspec": {
   "display_name": "Python 3",
   "language": "python",
   "name": "python3"
  },
  "language_info": {
   "codemirror_mode": {
    "name": "ipython",
    "version": 3
   },
   "file_extension": ".py",
   "mimetype": "text/x-python",
   "name": "python",
   "nbconvert_exporter": "python",
   "pygments_lexer": "ipython3",
   "version": "3.8.3"
  }
 },
 "nbformat": 4,
 "nbformat_minor": 4
}
