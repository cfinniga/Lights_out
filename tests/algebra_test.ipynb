{
 "cells": [
  {
   "cell_type": "code",
   "execution_count": 2,
   "metadata": {},
   "outputs": [],
   "source": [
    "from algebra import *\n",
    "from game import get_matrix_from_game\n",
    "\n",
    "def get_upper_triangular_test():\n",
    "    n = 3\n",
    "    m = 3\n",
    "    A = get_matrix_from_game(n,m)\n",
    "    matrix = np.array([[0, 0, 0], [1, 1, 0], [1, 0, 1]])\n",
    "    b = np.reshape(matrix, (n*m,1))\n",
    "    C = np.concatenate((A,b),1)\n",
    "    res = get_upper_triangular(C,n*m,n*m)\n",
    "    return res\n",
    "\n",
    "result = get_upper_triangular_test()\n",
    "n = 3\n",
    "m = 3\n",
    "A = get_matrix_from_game(n,m)"
   ]
  },
  {
   "cell_type": "code",
   "execution_count": null,
   "metadata": {},
   "outputs": [],
   "source": []
  }
 ],
 "metadata": {
  "kernelspec": {
   "display_name": "Python 3",
   "language": "python",
   "name": "python3"
  },
  "language_info": {
   "codemirror_mode": {
    "name": "ipython",
    "version": 3
   },
   "file_extension": ".py",
   "mimetype": "text/x-python",
   "name": "python",
   "nbconvert_exporter": "python",
   "pygments_lexer": "ipython3",
   "version": "3.8.3"
  }
 },
 "nbformat": 4,
 "nbformat_minor": 4
}
